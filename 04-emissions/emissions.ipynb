{
 "cells": [
  {
   "cell_type": "markdown",
   "id": "e44d0e9f-c17c-4eaa-a1e9-21407f736257",
   "metadata": {},
   "source": [
    "# Emissions\n",
    "In this notebook we use the [cams-global-emission-inventories](https://ads.atmosphere.copernicus.eu/cdsapp#!/dataset/cams-global-emission-inventories?tab=overview) dataset. The dataset contains anthropogenic and natural emissions. We'll focus on nitrogen oxides (NOx). These comes from several sources: agriculture, ships, power generation, road traffic, industry."
   ]
  },
  {
   "cell_type": "code",
   "execution_count": 12,
   "id": "4f556508-9053-44c2-bbc6-f89071fdd65a",
   "metadata": {},
   "outputs": [],
   "source": [
    "import numpy as np\n",
    "import xarray as xr\n",
    "import pandas as pd\n",
    "\n",
    "import matplotlib.pyplot as plt\n",
    "import cartopy.crs as ccrs\n",
    "import cartopy.feature as cfeature\n",
    "import matplotlib.colors as mcol\n",
    "from matplotlib.colors import ListedColormap\n",
    "\n",
    "from zipfile import ZipFile"
   ]
  },
  {
   "cell_type": "markdown",
   "id": "011b1927-90d6-492c-a1be-b68101ed758c",
   "metadata": {},
   "source": [
    "## The CAMS CDS API\n",
    "We build the query to submit to the CAMS web service."
   ]
  },
  {
   "cell_type": "code",
   "execution_count": 50,
   "id": "40c48665-a9b0-43bb-8e1e-87389d5d2874",
   "metadata": {},
   "outputs": [],
   "source": [
    "DATADIR = 'data'\n",
    "WDIR = f'cams-global-emissions-inventory'"
   ]
  },
  {
   "cell_type": "code",
   "execution_count": 51,
   "id": "98a1ad61-9839-4757-8270-e8f678be42ed",
   "metadata": {},
   "outputs": [
    {
     "data": {
      "text/plain": [
       "[2000]"
      ]
     },
     "execution_count": 51,
     "metadata": {},
     "output_type": "execute_result"
    }
   ],
   "source": [
    "variable = 'nitrogen_oxides'\n",
    "source = 'anthropogenic'\n",
    "start_year = '2000'\n",
    "years = (np.array('2000', dtype=int) + np.arange(1)).tolist()\n",
    "years"
   ]
  },
  {
   "cell_type": "code",
   "execution_count": 45,
   "id": "e8c32659-6b1b-4412-ab1b-d6a4d4d02240",
   "metadata": {},
   "outputs": [],
   "source": [
    "import cdsapi\n",
    "c = cdsapi.Client()"
   ]
  },
  {
   "cell_type": "code",
   "execution_count": 48,
   "id": "997d4c9f-054e-4e83-a506-4c11d40db86e",
   "metadata": {},
   "outputs": [
    {
     "name": "stderr",
     "output_type": "stream",
     "text": [
      "2024-07-16 17:25:32,161 INFO Welcome to the CDS\n",
      "2024-07-16 17:25:32,162 INFO Sending request to https://ads.atmosphere.copernicus.eu/api/v2/resources/cams-global-emission-inventories\n",
      "2024-07-16 17:25:32,201 INFO Request is queued\n",
      "2024-07-16 17:25:33,228 INFO Request is running\n",
      "2024-07-16 17:25:37,040 INFO Request is completed\n",
      "2024-07-16 17:25:37,041 INFO Downloading https://download-0000-ads-clone.copernicus-climate.eu/cache-compute-0000/cache/data8/dataset-cams-global-emission-inventories-58ebb12f-9d17-49ac-8881-84a25a95e198.zip to data/cams-global-emissions-inventory.zip (367.9M)\n",
      "2024-07-16 17:26:07,564 INFO Download rate 12.1M/s    \n"
     ]
    },
    {
     "data": {
      "text/plain": [
       "Result(content_length=385725879,content_type=application/zip,location=https://download-0000-ads-clone.copernicus-climate.eu/cache-compute-0000/cache/data8/dataset-cams-global-emission-inventories-58ebb12f-9d17-49ac-8881-84a25a95e198.zip)"
      ]
     },
     "execution_count": 48,
     "metadata": {},
     "output_type": "execute_result"
    }
   ],
   "source": [
    "c.retrieve(\n",
    "    'cams-global-emission-inventories',\n",
    "    {\n",
    "        'variable': variable,\n",
    "        'source': [\n",
    "            source,\n",
    "        ],\n",
    "        'version': 'latest',\n",
    "        'year': years,\n",
    "        'format': 'zip',\n",
    "    },\n",
    "    f'{DATADIR}/cams-global-emissions-inventory.zip')"
   ]
  },
  {
   "cell_type": "code",
   "execution_count": 49,
   "id": "7187afa4-450a-4896-a88f-70213c21ebe7",
   "metadata": {},
   "outputs": [],
   "source": [
    "with ZipFile(f'{DATADIR}/{WDIR}.zip', 'r') as zipObj:\n",
    "   # Extract all the contents of zip file in current directory\n",
    "   zipObj.extractall(path=f'{DATADIR}/{WDIR}/')"
   ]
  }
 ],
 "metadata": {
  "kernelspec": {
   "display_name": "Python 3 (ipykernel)",
   "language": "python",
   "name": "python3"
  },
  "language_info": {
   "codemirror_mode": {
    "name": "ipython",
    "version": 3
   },
   "file_extension": ".py",
   "mimetype": "text/x-python",
   "name": "python",
   "nbconvert_exporter": "python",
   "pygments_lexer": "ipython3",
   "version": "3.11.5"
  }
 },
 "nbformat": 4,
 "nbformat_minor": 5
}
