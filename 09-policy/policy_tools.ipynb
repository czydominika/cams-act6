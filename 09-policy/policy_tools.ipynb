{
 "cells": [
  {
   "cell_type": "markdown",
   "id": "5f8976e4-963a-4ee4-80d3-7ace7f3b73eb",
   "metadata": {},
   "source": [
    "[![logo](https://climate.copernicus.eu/sites/default/files/custom-uploads/branding/LogoLine_horizon_CAMS.png)](https://atmosphere.copernicus.eu)"
   ]
  },
  {
   "cell_type": "markdown",
   "id": "3bd0d299-7d61-4b7a-ab3b-e9ee17e00839",
   "metadata": {},
   "source": [
    "# Policy tools"
   ]
  },
  {
   "cell_type": "markdown",
   "id": "182e74f1-9a17-4583-b0dc-98a84e4b6f77",
   "metadata": {},
   "source": [
    " **Run the tutorial via free cloud platforms**: [![binder](https://mybinder.org/badge.svg)](https://mybinder.org/v2/gh/ecmwf-training/cams-act6/main?labpath=09-policy/policy_tools.ipynb)\n",
    "[![kaggle](https://kaggle.com/static/images/open-in-kaggle.svg)](https://kaggle.com/kernels/welcome?src=https://github.com/ecmwf-training/cams-act6/blob/main/09-policy/policy_tools.ipynb)\n",
    "[![colab](https://colab.research.google.com/assets/colab-badge.svg)](https://colab.research.google.com/github/ecmwf-training/cams-act6/blob/main/09-policy/policy_tools.ipynb)"
   ]
  },
  {
   "cell_type": "markdown",
   "id": "25fbe103-7adb-49fe-9305-e039346e8842",
   "metadata": {},
   "source": [
    "The policy tools provide two APIs to consume the policy data using a client software, such as this notebook, instead of by a person."
   ]
  },
  {
   "cell_type": "markdown",
   "id": "e942efdb-9506-434b-ba30-529cad7fdcac",
   "metadata": {
    "jp-MarkdownHeadingCollapsed": true
   },
   "source": [
    "## APIs\n",
    "\n",
    "### Air Control Toolbox (ACT)\n",
    "https://policy.atmosphere.copernicus.eu/data/{yyyymm}/{model}/{mod}_{city}_{yyyymmdd}.json\n",
    "https://policy.atmosphere.copernicus.eu/data/{yyyymm}/CHIMERE/{model}_{city}_{yyyymmdd}.json\n",
    "\n",
    "### Source Allocation\n",
    "https://policy.atmosphere.copernicus.eu/data/climato/{city}-{parameter}-{model}-{year}.json"
   ]
  },
  {
   "cell_type": "markdown",
   "id": "60858828-6892-4468-b9b0-ab8fa82980bc",
   "metadata": {},
   "source": [
    "## Questions\n",
    "1. Which are the 10 cities where the dust share in PM10 is highest ?\n",
    "2. On average between 2021 and 2023, which country contributed most to PM10 pollution in Prague ?\n",
    "3. Which are the 10 cities where the maritime sector had the largest impact on ozone daily max between June and August 2024 ?"
   ]
  },
  {
   "cell_type": "markdown",
   "id": "e5dfc903-7030-4020-840e-e84d0522c2f8",
   "metadata": {},
   "source": [
    "### Import libraries"
   ]
  },
  {
   "cell_type": "code",
   "execution_count": 2,
   "id": "dd1f5db3-c660-46a4-b296-2d9ba63e8c12",
   "metadata": {},
   "outputs": [],
   "source": [
    "import os\n",
    "import sys\n",
    "import json\n",
    "import requests\n",
    "import urllib\n",
    "import urllib.request\n",
    "import pandas as pd\n",
    "import math\n",
    "import datetime\n",
    "from math import ceil, sqrt\n",
    "import matplotlib.pyplot as plt\n",
    "import matplotlib.dates as mdates\n",
    "import warnings\n",
    "warnings.filterwarnings('ignore')"
   ]
  },
  {
   "cell_type": "markdown",
   "id": "c72fcbae-241b-427a-8b6c-7c992522ce57",
   "metadata": {},
   "source": [
    "### Question 1\n",
    "Here we want to answer the question: which are the 10 cities where the dust share in PM10 is highest ? We could answer this question by using the [Policy Tools](https://policy.atmosphere.copernicus.eu/daily_source_attribution/chemical_species.php?model=CHIMERE) website and selecting \"Chemical speciation\" in the \"Daily Source Attribution\" menu. We can hereafter select the date, the city, and the model. For this question we will use the CHIMERE model. We can use the API to send a request for each city and process the data to answer our question. We start by reading the file that contains the name of the cities for which the policy webste provides the forecasts."
   ]
  },
  {
   "cell_type": "code",
   "execution_count": 6,
   "id": "c9f0d634-4eb1-4835-a834-0f7b4513f41c",
   "metadata": {},
   "outputs": [],
   "source": [
    "cities_file_url = 'https://raw.githubusercontent.com/ecmwf-training/cams-act6/main/09-policy/cities.txt'\n",
    "r = requests.get(cities_file_url)\n",
    "cities_file_path = f'cities.txt'\n",
    "with open(cities_file_path, 'wb') as f:\n",
    "        f.write(r.content)"
   ]
  },
  {
   "cell_type": "code",
   "execution_count": 7,
   "id": "2ee7c7cf-59b8-4c19-9d58-d6bb58f8f436",
   "metadata": {},
   "outputs": [],
   "source": [
    "with open('cities.txt', 'r', encoding=\"utf8\") as file:\n",
    "    cities = [line.strip() for line in file]"
   ]
  },
  {
   "cell_type": "code",
   "execution_count": 8,
   "id": "ee2ae618-9d3f-4ff4-ac79-5cd4ea60f98d",
   "metadata": {},
   "outputs": [
    {
     "data": {
      "text/plain": [
       "80"
      ]
     },
     "execution_count": 8,
     "metadata": {},
     "output_type": "execute_result"
    }
   ],
   "source": [
    "num_cities = len(cities)\n",
    "num_cities"
   ]
  },
  {
   "cell_type": "code",
   "execution_count": 9,
   "id": "9173880e-6872-406b-b700-463d913b8a41",
   "metadata": {},
   "outputs": [],
   "source": [
    "def act_chimere_url(day, city):\n",
    "    city = urllib.parse.quote(city) # utf-8 encode for the url\n",
    "    return 'https://policy.atmosphere.copernicus.eu/data/' + day[:6] + '/CHIMERE/ACT_' + city + '_' + day + '.json'"
   ]
  },
  {
   "cell_type": "code",
   "execution_count": 11,
   "id": "cf0f065e-e179-4f99-a17a-354e0f8328c7",
   "metadata": {},
   "outputs": [],
   "source": [
    "day = '20240914'\n",
    "city = 'Malmö'"
   ]
  },
  {
   "cell_type": "code",
   "execution_count": 12,
   "id": "ab69ee3c-9b20-45e4-8d9c-93aeeda4798b",
   "metadata": {},
   "outputs": [
    {
     "data": {
      "text/plain": [
       "'https://policy.atmosphere.copernicus.eu/data/202409/CHIMERE/ACT_Malm%C3%B6_20240914.json'"
      ]
     },
     "execution_count": 12,
     "metadata": {},
     "output_type": "execute_result"
    }
   ],
   "source": [
    "act_forecast_url = act_chimere_url(day, city)\n",
    "act_forecast_url"
   ]
  },
  {
   "cell_type": "code",
   "execution_count": 13,
   "id": "8e330201-b1d4-4148-94c1-9814b5f6616c",
   "metadata": {},
   "outputs": [
    {
     "data": {
      "text/plain": [
       "'Malmö_20240914.json'"
      ]
     },
     "execution_count": 13,
     "metadata": {},
     "output_type": "execute_result"
    }
   ],
   "source": [
    "file_name = city + '_' + day + '.json'\n",
    "file_name"
   ]
  },
  {
   "cell_type": "code",
   "execution_count": 15,
   "id": "49ec2335-117e-47dc-9ee4-1971eab71dd4",
   "metadata": {},
   "outputs": [],
   "source": [
    "with urllib.request.urlopen(act_forecast_url) as url:\n",
    "    json_data = json.load(url)\n",
    "    #print(json_data)"
   ]
  },
  {
   "cell_type": "markdown",
   "id": "f0632397-ca86-4e6e-af83-a4753c18bf54",
   "metadata": {},
   "source": [
    "We can store the json file"
   ]
  },
  {
   "cell_type": "code",
   "execution_count": 16,
   "id": "5557eb1b-63c2-4e5e-93c3-60ff3d1a8735",
   "metadata": {},
   "outputs": [],
   "source": [
    "with open(file_name, 'w') as f:\n",
    "    json.dump(json_data, f)"
   ]
  },
  {
   "cell_type": "markdown",
   "id": "231ef8d8-8136-47d1-92c7-5196871ba31b",
   "metadata": {},
   "source": [
    "We parse the json file to extract the information we need to answer our question: we look for the DUST value of the total concentration of PM10 "
   ]
  },
  {
   "cell_type": "code",
   "execution_count": 17,
   "id": "119c2a0c-15de-45fe-a401-70ce64fe60a5",
   "metadata": {},
   "outputs": [],
   "source": [
    "def compute_dust_fraction(json_data, day):\n",
    "    dust_fraction = 0.0\n",
    "    for item in json_data.get(day):\n",
    "        name = item['name'] \n",
    "        polluttant = item['poll']\n",
    "        if (name == 'Total' and polluttant == 'DUST'):\n",
    "            dust_fraction = sum(item['hOut'][:23])\n",
    "    return dust_fraction  "
   ]
  },
  {
   "cell_type": "code",
   "execution_count": 18,
   "id": "76d2c781-6654-494d-a01e-0b368e4a0bfe",
   "metadata": {},
   "outputs": [
    {
     "name": "stdout",
     "output_type": "stream",
     "text": [
      "Dust fraction in Malmö for 20240914: 0.12\n"
     ]
    }
   ],
   "source": [
    "dust_fraction = compute_dust_fraction(json_data, day)\n",
    "print('Dust fraction in {:s} for {:s}: {:.2f}'.format(city, day, dust_fraction))"
   ]
  },
  {
   "cell_type": "markdown",
   "id": "2d92972c-481e-43c9-a019-66af94714857",
   "metadata": {},
   "source": [
    "Now we put everything together to send a request for each city and extract the amount of dust within the total amount of PM10"
   ]
  },
  {
   "cell_type": "code",
   "execution_count": 19,
   "id": "f176d853-c018-45fe-bc42-fbfe716f3f9f",
   "metadata": {},
   "outputs": [],
   "source": [
    "def dust_pm10(cities, day):\n",
    "    cities_dust_pm10 = []\n",
    "    for city in cities:\n",
    "        act_data_url = act_chimere_url(day, city)\n",
    "        with urllib.request.urlopen(act_data_url) as url:\n",
    "            json_data = json.load(url)\n",
    "            dust_fraction = compute_dust_fraction(json_data, day)\n",
    "            #print('City: {:s}, PM10 dust fraction: {:.2f}'.format(city, dust_fraction))\n",
    "            cities_dust_pm10.append(dust_fraction)\n",
    "    return cities_dust_pm10"
   ]
  },
  {
   "cell_type": "code",
   "execution_count": 20,
   "id": "425a6731-9fdb-42c0-803a-9b322c5606b5",
   "metadata": {},
   "outputs": [],
   "source": [
    "cities_dust_fraction_pm10 = dust_pm10(cities, '20240914')"
   ]
  },
  {
   "cell_type": "code",
   "execution_count": 21,
   "id": "4f7796df-cd5b-441a-a3f1-b2e573bbbaed",
   "metadata": {},
   "outputs": [],
   "source": [
    "cities_dust = zip(cities, cities_dust_fraction_pm10)"
   ]
  },
  {
   "cell_type": "markdown",
   "id": "795ea592-8ae2-46ee-8216-e90e09e2199d",
   "metadata": {},
   "source": [
    "We sort the result and print the 10 cities with the highest share of dust in PM10"
   ]
  },
  {
   "cell_type": "code",
   "execution_count": 22,
   "id": "de70c856-9f6b-4312-ba27-08449103139e",
   "metadata": {},
   "outputs": [
    {
     "data": {
      "text/plain": [
       "[('Helsinki', 53.497),\n",
       " ('Vilnius', 27.765),\n",
       " ('Riga', 21.883),\n",
       " ('Tallinn', 17.155),\n",
       " ('Nicosia', 2.106),\n",
       " ('Seville', 1.157),\n",
       " ('Lisbon', 1.153),\n",
       " ('Dublin', 0.898),\n",
       " ('Málaga', 0.566),\n",
       " ('Porto', 0.498)]"
      ]
     },
     "execution_count": 22,
     "metadata": {},
     "output_type": "execute_result"
    }
   ],
   "source": [
    "sorted(cities_dust, key=lambda x: x[1], reverse=True)[:10]"
   ]
  },
  {
   "cell_type": "markdown",
   "id": "809b51e6-a425-4446-91d6-7e4bb7cf42d7",
   "metadata": {},
   "source": [
    "### Question 2\n",
    "Here the question is: on average between 2021 and 2023, which country contributed most to PM10 pollution in Prague ? We could answer this question using the [policy tools](https://policy.atmosphere.copernicus.eu/daily_source_attribution/country_contribution.php?date=2024-09-10) by selecting \"Country contribution\" in the \"Yearly Air Pollution Analysis\" menu. Afterward we select the city of Prague and PM10 as the pollutant. "
   ]
  },
  {
   "cell_type": "code",
   "execution_count": 23,
   "id": "d94ddbda-6452-402e-a81a-c3000bd1d238",
   "metadata": {},
   "outputs": [],
   "source": [
    "def sa_url(city, year, polluttant):\n",
    "    city = urllib.parse.quote(city) # utf-8 encode for the url\n",
    "    return 'https://policy.atmosphere.copernicus.eu/data/climato/' + city + '-' + polluttant + '-ACT-' + year + '.json'"
   ]
  },
  {
   "cell_type": "code",
   "execution_count": 24,
   "id": "31a28c94-ec8e-4476-97f3-4be5c855c861",
   "metadata": {},
   "outputs": [
    {
     "data": {
      "text/plain": [
       "'https://policy.atmosphere.copernicus.eu/data/climato/Prague-PM10-ACT-2024.json'"
      ]
     },
     "execution_count": 24,
     "metadata": {},
     "output_type": "execute_result"
    }
   ],
   "source": [
    "city = 'Prague'\n",
    "year = '2024'\n",
    "sa_data_url = sa_url(city, year, 'PM10')\n",
    "sa_data_url"
   ]
  },
  {
   "cell_type": "code",
   "execution_count": 25,
   "id": "b152704a-6d0c-4625-864d-1533425a2671",
   "metadata": {},
   "outputs": [
    {
     "data": {
      "text/plain": [
       "'Prague_2024.json'"
      ]
     },
     "execution_count": 25,
     "metadata": {},
     "output_type": "execute_result"
    }
   ],
   "source": [
    "file_name = city + '_' + year + '.json'\n",
    "file_name"
   ]
  },
  {
   "cell_type": "code",
   "execution_count": 26,
   "id": "cb6aba37-e18a-4a48-a588-d3d263e088a7",
   "metadata": {},
   "outputs": [],
   "source": [
    " with urllib.request.urlopen(sa_data_url) as url:\n",
    "    json_data = json.load(url)\n",
    "    #print(data)"
   ]
  },
  {
   "cell_type": "code",
   "execution_count": 27,
   "id": "824cbc1f-4871-4833-81c0-6ef7c869a30c",
   "metadata": {},
   "outputs": [],
   "source": [
    "with open(file_name, 'w') as f:\n",
    "    json.dump(json_data, f)"
   ]
  },
  {
   "cell_type": "markdown",
   "id": "7c078081-a6b5-4441-be13-8678d8b384ef",
   "metadata": {},
   "source": [
    "### Question 3\n",
    "Here the question is: which are the 10 cities where the maritime sector had the largest impact on ozone daily max between June and August 2024 ? The maritime sector is labeled as Ship or SHP. In order to answer this question we use the same API as for question 1. We select the \"Sector apportionment\" from the \"Daily Source Attribution\" menu, then $O_3$ as the polluttant, the date, and the city. The JSON file used to build the visualization on the web page can be downloaded from the link on righ hand side at the bottom. As we have done for question 1, we have to poll the website to get the data for all the cities and finally rank the first 10 for the largest impact on $O_3$ from the maritime (shipping) sector. "
   ]
  },
  {
   "cell_type": "code",
   "execution_count": 29,
   "id": "956e1863-2b5d-4ed7-8737-6ed240b9fddd",
   "metadata": {},
   "outputs": [
    {
     "data": {
      "text/plain": [
       "'https://policy.atmosphere.copernicus.eu/data/202409/CHIMERE/ACT_Oslo_20240914.json'"
      ]
     },
     "execution_count": 29,
     "metadata": {},
     "output_type": "execute_result"
    }
   ],
   "source": [
    "city = 'Oslo'\n",
    "day = '20240914'\n",
    "act_forecast_url = act_chimere_url(day, city)\n",
    "act_forecast_url"
   ]
  },
  {
   "cell_type": "code",
   "execution_count": 30,
   "id": "ad53676e-63c9-42ae-9361-faa7fe8da275",
   "metadata": {},
   "outputs": [],
   "source": [
    "with urllib.request.urlopen(act_forecast_url) as url:\n",
    "    json_data = json.load(url)"
   ]
  },
  {
   "cell_type": "code",
   "execution_count": 31,
   "id": "d73939a1-d0d7-45c9-929e-6e5198545346",
   "metadata": {},
   "outputs": [],
   "source": [
    "file_name = city + '_' + day + '.json'"
   ]
  },
  {
   "cell_type": "code",
   "execution_count": 32,
   "id": "f92ece4c-8b91-47ae-b579-204c085a2305",
   "metadata": {},
   "outputs": [],
   "source": [
    "with open(file_name, 'w') as f:\n",
    "    json.dump(json_data, f)"
   ]
  },
  {
   "cell_type": "code",
   "execution_count": 33,
   "id": "26337a14-e07c-433f-ab3b-73ffc4685c19",
   "metadata": {},
   "outputs": [],
   "source": [
    "def filter_sector_apportionment(json_data, day):\n",
    "    impact_on_o3 = 0.0\n",
    "    for item in json_data.get(day):\n",
    "        name = item['name'] \n",
    "        polluttant = item['poll']\n",
    "        if (name == 'Shipping' and polluttant == 'O3'):\n",
    "            impact_on_o3 = max(item['hOut'][:23])\n",
    "    return impact_on_o3  "
   ]
  },
  {
   "cell_type": "code",
   "execution_count": 37,
   "id": "efc5c32c-923c-4d9c-9a0f-63ae796bf15a",
   "metadata": {},
   "outputs": [
    {
     "name": "stdout",
     "output_type": "stream",
     "text": [
      "Impact of the maritime sector on ozone concentration in Oslo: 0.12\n"
     ]
    }
   ],
   "source": [
    "maritime_impact_o3 = filter_sector_apportionment(json_data, day)\n",
    "print('Impact of the maritime sector on ozone concentration in {:s}: {:.2f}'.format(city, maritime_impact_o3))"
   ]
  },
  {
   "cell_type": "code",
   "execution_count": 38,
   "id": "10476a47-b3ff-441a-a4a9-f4b71a25066f",
   "metadata": {},
   "outputs": [],
   "source": [
    "def impact_on_o3(cities, day):\n",
    "    cities_maritime_impact_o3 = []\n",
    "    for city in cities:\n",
    "        act_data_url = act_chimere_url(day, city)\n",
    "        with urllib.request.urlopen(act_data_url) as url:\n",
    "            json_data = json.load(url)\n",
    "            maritime_impact_o3 = filter_sector_apportionment(json_data, day)\n",
    "            cities_maritime_impact_o3.append(maritime_impact_o3)\n",
    "    return cities_maritime_impact_o3"
   ]
  },
  {
   "cell_type": "code",
   "execution_count": 42,
   "id": "a5c49656-7b0d-4041-b586-36c09b1365db",
   "metadata": {},
   "outputs": [],
   "source": [
    "cities_impact_maritime_o3 = impact_on_o3(cities, '20240914')"
   ]
  },
  {
   "cell_type": "code",
   "execution_count": 43,
   "id": "4487bb59-94de-4484-87f9-8fc0c995a76a",
   "metadata": {},
   "outputs": [],
   "source": [
    "cities_impact = zip(cities, cities_impact_maritime_o3)"
   ]
  },
  {
   "cell_type": "code",
   "execution_count": 44,
   "id": "cc574520-a723-43b8-85eb-a8f5b088ce8c",
   "metadata": {},
   "outputs": [
    {
     "data": {
      "text/plain": [
       "[('Lisbon', 14.493),\n",
       " ('Seville', 11.508),\n",
       " ('Valencia', 10.566),\n",
       " ('Nicosia', 8.993),\n",
       " ('Málaga', 8.471),\n",
       " ('Trójmiasto', 6.729),\n",
       " ('Valletta', 6.7),\n",
       " ('Malmö', 6.372),\n",
       " ('PalmaDeMallorca', 5.653),\n",
       " ('Copenhagen', 5.53)]"
      ]
     },
     "execution_count": 44,
     "metadata": {},
     "output_type": "execute_result"
    }
   ],
   "source": [
    "sorted(cities_impact, key=lambda x: x[1], reverse=True)[:10]"
   ]
  },
  {
   "cell_type": "markdown",
   "id": "a8f0a6ff-5ff4-4565-bba9-e4d204a65cb2",
   "metadata": {},
   "source": [
    "## References\n",
    "* [Colette et al. - Air Control Toolbox (ACT_v1.0): a flexible surrogate model to explore mitigation scenarios in air quality forecasts](https://gmd.copernicus.org/articles/15/1441/2022/)"
   ]
  },
  {
   "cell_type": "code",
   "execution_count": null,
   "id": "c6b69b6c-00e1-4090-b14e-c52fc7dcd867",
   "metadata": {},
   "outputs": [],
   "source": []
  }
 ],
 "metadata": {
  "kernelspec": {
   "display_name": "Python 3 (ipykernel)",
   "language": "python",
   "name": "python3"
  },
  "language_info": {
   "codemirror_mode": {
    "name": "ipython",
    "version": 3
   },
   "file_extension": ".py",
   "mimetype": "text/x-python",
   "name": "python",
   "nbconvert_exporter": "python",
   "pygments_lexer": "ipython3",
   "version": "3.12.5"
  }
 },
 "nbformat": 4,
 "nbformat_minor": 5
}
