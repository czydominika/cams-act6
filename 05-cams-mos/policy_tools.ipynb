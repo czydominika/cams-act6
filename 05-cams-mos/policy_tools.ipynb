{
 "cells": [
  {
   "cell_type": "markdown",
   "id": "5f8976e4-963a-4ee4-80d3-7ace7f3b73eb",
   "metadata": {},
   "source": [
    "[![logo](https://climate.copernicus.eu/sites/default/files/custom-uploads/branding/LogoLine_horizon_CAMS.png)](https://atmosphere.copernicus.eu)"
   ]
  },
  {
   "cell_type": "markdown",
   "id": "3bd0d299-7d61-4b7a-ab3b-e9ee17e00839",
   "metadata": {},
   "source": [
    "# Policy tools"
   ]
  },
  {
   "cell_type": "markdown",
   "id": "182e74f1-9a17-4583-b0dc-98a84e4b6f77",
   "metadata": {},
   "source": [
    " **Run the tutorial via free cloud platforms**: [![binder](https://mybinder.org/badge.svg)](https://mybinder.org/v2/gh/ecmwf-training/cams-act6/main?labpath=05-cams-mos/policy_tools.ipynb)\n",
    "[![kaggle](https://kaggle.com/static/images/open-in-kaggle.svg)](https://kaggle.com/kernels/welcome?src=https://github.com/ecmwf-training/cams-act6/blob/main/05-cams-mos/policy_tools.ipynb)\n",
    "[![colab](https://colab.research.google.com/assets/colab-badge.svg)](https://colab.research.google.com/github/ecmwf-training/cams-act6/blob/main/05-cams-mos/policy_tools.ipynb)"
   ]
  },
  {
   "cell_type": "markdown",
   "id": "25fbe103-7adb-49fe-9305-e039346e8842",
   "metadata": {},
   "source": [
    "The policy tools provide two APIs to consume the policy data using a client software, such as this notebook, instead of by a person."
   ]
  },
  {
   "cell_type": "markdown",
   "id": "e942efdb-9506-434b-ba30-529cad7fdcac",
   "metadata": {},
   "source": [
    "## APIs\n",
    "\n",
    "### Air Control Toolbox (ACT)\n",
    "https://policy.atmosphere.copernicus.eu/data/{yyyymm}/CHIMERE/{model}_{city}_{yyyymmdd}.json\n",
    "\n",
    "### Source Allocation\n",
    "https://policy.atmosphere.copernicus.eu/data/climato/{city}-{parameter}-{model}-{year}.json"
   ]
  },
  {
   "cell_type": "markdown",
   "id": "60858828-6892-4468-b9b0-ab8fa82980bc",
   "metadata": {},
   "source": [
    "## Questions\n",
    "1. Which are the 10 cities where the dust share in PM10 is highest ?\n",
    "2. On average between 2021 and 2023, which country contributed most to PM10 pollution in Prague ?\n",
    "3. Which are the 10 cities where the maritime sector had the largest impact on ozone daily max between June and August 2024 ?"
   ]
  },
  {
   "cell_type": "markdown",
   "id": "e5dfc903-7030-4020-840e-e84d0522c2f8",
   "metadata": {},
   "source": [
    "### Import libraries"
   ]
  },
  {
   "cell_type": "code",
   "execution_count": 15,
   "id": "dd1f5db3-c660-46a4-b296-2d9ba63e8c12",
   "metadata": {},
   "outputs": [],
   "source": [
    "import os\n",
    "import sys\n",
    "import json\n",
    "import requests\n",
    "import urllib.request\n",
    "import pandas as pd\n",
    "import math\n",
    "import datetime\n",
    "from math import ceil, sqrt\n",
    "import matplotlib.pyplot as plt\n",
    "import matplotlib.dates as mdates\n",
    "import warnings\n",
    "warnings.filterwarnings('ignore')"
   ]
  },
  {
   "cell_type": "markdown",
   "id": "c72fcbae-241b-427a-8b6c-7c992522ce57",
   "metadata": {},
   "source": [
    "### Question 1\n",
    "Here we want to answer the question: which are the 10 cities where the dust share in PM10 is highest ? We could answer this question by using the [Policy Tools](https://policy.atmosphere.copernicus.eu/daily_source_attribution/sector_apportionment.php?date=2024-09-10) website and selecting \"Sector apportionment\" in the \"Daily Source Attribution\" menu. In the web page we can hereafter select the city and the pollutant. We can use the API to send several requests and process the data to answer more complex questions such as the one we are dealing with here. "
   ]
  },
  {
   "cell_type": "code",
   "execution_count": 23,
   "id": "2ee7c7cf-59b8-4c19-9d58-d6bb58f8f436",
   "metadata": {},
   "outputs": [],
   "source": [
    "with open('cities.txt', 'r', encoding=\"utf8\") as file:\n",
    "    lines = [line.strip() for line in file]"
   ]
  },
  {
   "cell_type": "code",
   "execution_count": 26,
   "id": "ee2ae618-9d3f-4ff4-ac79-5cd4ea60f98d",
   "metadata": {},
   "outputs": [
    {
     "data": {
      "text/plain": [
       "80"
      ]
     },
     "execution_count": 26,
     "metadata": {},
     "output_type": "execute_result"
    }
   ],
   "source": [
    "num_cities = len(lines)\n",
    "num_cities"
   ]
  },
  {
   "cell_type": "code",
   "execution_count": 67,
   "id": "9173880e-6872-406b-b700-463d913b8a41",
   "metadata": {},
   "outputs": [],
   "source": [
    "def act_url(city, day):\n",
    "    return 'https://policy.atmosphere.copernicus.eu/data/' + day[:6] + '/CHIMERE/ACT_' + city + '_' + day + '.json'"
   ]
  },
  {
   "cell_type": "code",
   "execution_count": 117,
   "id": "1d054562-db5c-4f24-8831-c4dab7432b8d",
   "metadata": {},
   "outputs": [
    {
     "data": {
      "text/plain": [
       "'https://policy.atmosphere.copernicus.eu/data/202409/CHIMERE/ACT_Rome_20240910.json'"
      ]
     },
     "execution_count": 117,
     "metadata": {},
     "output_type": "execute_result"
    }
   ],
   "source": [
    "day = '20240910'\n",
    "act_forecast_url = act_url('Rome', day)\n",
    "act_forecast_url"
   ]
  },
  {
   "cell_type": "code",
   "execution_count": 69,
   "id": "8e330201-b1d4-4148-94c1-9814b5f6616c",
   "metadata": {},
   "outputs": [
    {
     "data": {
      "text/plain": [
       "'ACT_Rome_20240910.json'"
      ]
     },
     "execution_count": 69,
     "metadata": {},
     "output_type": "execute_result"
    }
   ],
   "source": [
    "act_file_name = act_forecast_url.split('/')[-1:].pop()\n",
    "act_file_name"
   ]
  },
  {
   "cell_type": "code",
   "execution_count": 80,
   "id": "49ec2335-117e-47dc-9ee4-1971eab71dd4",
   "metadata": {},
   "outputs": [],
   "source": [
    "with urllib.request.urlopen(act_forecast_url) as url:\n",
    "    act_data = json.load(url)\n",
    "    #print(act_data)"
   ]
  },
  {
   "cell_type": "markdown",
   "id": "f0632397-ca86-4e6e-af83-a4753c18bf54",
   "metadata": {},
   "source": [
    "We can store the json file"
   ]
  },
  {
   "cell_type": "code",
   "execution_count": 81,
   "id": "5557eb1b-63c2-4e5e-93c3-60ff3d1a8735",
   "metadata": {},
   "outputs": [],
   "source": [
    "with open(act_file_name, 'w') as f:\n",
    "    json.dump(act_data, f)"
   ]
  },
  {
   "cell_type": "markdown",
   "id": "231ef8d8-8136-47d1-92c7-5196871ba31b",
   "metadata": {},
   "source": [
    "We parse the json file to extract the information we need to answer our question"
   ]
  },
  {
   "cell_type": "code",
   "execution_count": 118,
   "id": "119c2a0c-15de-45fe-a401-70ce64fe60a5",
   "metadata": {},
   "outputs": [
    {
     "name": "stdout",
     "output_type": "stream",
     "text": [
      "Sector: Shipping, PM10: 22.69\n",
      "Sector: Natural, PM10: 385.53\n",
      "Sector: Others, PM10: 26.84\n",
      "Sector: Agriculture, PM10: 37.39\n",
      "Sector: Industry, PM10: 22.96\n",
      "Sector: Residential, PM10: 126.53\n",
      "Sector: Residual, PM10: -10.24\n",
      "Sector: Traffic, PM10: 20.61\n"
     ]
    }
   ],
   "source": [
    "for item in act_data.get(day):\n",
    "    name = item['name'] \n",
    "    polluttant = item['poll']\n",
    "    if (polluttant == 'PM10'):\n",
    "        hOut = sum(item['hOut'])\n",
    "        print('Sector: {:s}, PM10: {:.2f}'.format(name, hOut))"
   ]
  },
  {
   "cell_type": "markdown",
   "id": "809b51e6-a425-4446-91d6-7e4bb7cf42d7",
   "metadata": {},
   "source": [
    "### Question 2\n",
    "Here the question is: on average between 2021 and 2023, which country contributed most to PM10 pollution in Prague ? We could answer this question using the [policy tools](https://policy.atmosphere.copernicus.eu/daily_source_attribution/country_contribution.php?date=2024-09-10) by selecting \"Country contribution\" in the \"Yearly Air Pollution Analysis\" menu. Afterward we can select the city and the pollutant. As for question 1, we can use the API to send several requests, e.g. for several cities, and process the data to answer more complex questions than the one we are dealing with here. (there is no json file in the web page)"
   ]
  },
  {
   "cell_type": "code",
   "execution_count": 61,
   "id": "d94ddbda-6452-402e-a81a-c3000bd1d238",
   "metadata": {},
   "outputs": [],
   "source": [
    "def sa_url(city, year, polluttant):\n",
    "    return 'https://policy.atmosphere.copernicus.eu/data/climato/' + city + '-' + polluttant + '-ACT-' + year + '.json'"
   ]
  },
  {
   "cell_type": "code",
   "execution_count": 62,
   "id": "31a28c94-ec8e-4476-97f3-4be5c855c861",
   "metadata": {},
   "outputs": [
    {
     "data": {
      "text/plain": [
       "'https://policy.atmosphere.copernicus.eu/data/climato/Oslo-PM10-ACT-2024.json'"
      ]
     },
     "execution_count": 62,
     "metadata": {},
     "output_type": "execute_result"
    }
   ],
   "source": [
    "sa_data_url = sa_url('Oslo', '2024', 'PM10')\n",
    "sa_data_url"
   ]
  },
  {
   "cell_type": "code",
   "execution_count": 64,
   "id": "b152704a-6d0c-4625-864d-1533425a2671",
   "metadata": {},
   "outputs": [
    {
     "data": {
      "text/plain": [
       "'Oslo-PM10-ACT-2024.json'"
      ]
     },
     "execution_count": 64,
     "metadata": {},
     "output_type": "execute_result"
    }
   ],
   "source": [
    "sa_file_name = sa_data_url.split('/')[-1:].pop()\n",
    "sa_file_name"
   ]
  },
  {
   "cell_type": "code",
   "execution_count": 65,
   "id": "cb6aba37-e18a-4a48-a588-d3d263e088a7",
   "metadata": {},
   "outputs": [],
   "source": [
    " with urllib.request.urlopen(sa_data_url) as url:\n",
    "    sa_data = json.load(url)\n",
    "    #print(data)"
   ]
  },
  {
   "cell_type": "code",
   "execution_count": 66,
   "id": "824cbc1f-4871-4833-81c0-6ef7c869a30c",
   "metadata": {},
   "outputs": [],
   "source": [
    "with open(sa_file_name, 'w') as f:\n",
    "    json.dump(sa_data, f)"
   ]
  },
  {
   "cell_type": "markdown",
   "id": "7c078081-a6b5-4441-be13-8678d8b384ef",
   "metadata": {},
   "source": [
    "### Question 3\n",
    "Here the question is: which are the 10 cities where the maritime sector had the largest impact on ozone daily max between June and August 2024 ? The maritime sector is labeled as Ship or SHP. In order to answer this question we use again the "
   ]
  },
  {
   "cell_type": "markdown",
   "id": "a8f0a6ff-5ff4-4565-bba9-e4d204a65cb2",
   "metadata": {},
   "source": [
    "## References\n",
    "* [Colette et al. - Air Control Toolbox (ACT_v1.0): a flexible surrogate model to explore mitigation scenarios in air quality forecasts](https://gmd.copernicus.org/articles/15/1441/2022/)"
   ]
  },
  {
   "cell_type": "code",
   "execution_count": null,
   "id": "c6b69b6c-00e1-4090-b14e-c52fc7dcd867",
   "metadata": {},
   "outputs": [],
   "source": []
  }
 ],
 "metadata": {
  "kernelspec": {
   "display_name": "Python 3 (ipykernel)",
   "language": "python",
   "name": "python3"
  },
  "language_info": {
   "codemirror_mode": {
    "name": "ipython",
    "version": 3
   },
   "file_extension": ".py",
   "mimetype": "text/x-python",
   "name": "python",
   "nbconvert_exporter": "python",
   "pygments_lexer": "ipython3",
   "version": "3.12.5"
  }
 },
 "nbformat": 4,
 "nbformat_minor": 5
}
