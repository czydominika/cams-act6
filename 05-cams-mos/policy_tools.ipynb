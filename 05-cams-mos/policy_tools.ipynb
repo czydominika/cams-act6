{
 "cells": [
  {
   "cell_type": "markdown",
   "id": "5f8976e4-963a-4ee4-80d3-7ace7f3b73eb",
   "metadata": {},
   "source": [
    "[![logo](https://climate.copernicus.eu/sites/default/files/custom-uploads/branding/LogoLine_horizon_CAMS.png)](https://atmosphere.copernicus.eu)"
   ]
  },
  {
   "cell_type": "markdown",
   "id": "3bd0d299-7d61-4b7a-ab3b-e9ee17e00839",
   "metadata": {},
   "source": [
    "# Policy tools"
   ]
  },
  {
   "cell_type": "markdown",
   "id": "182e74f1-9a17-4583-b0dc-98a84e4b6f77",
   "metadata": {},
   "source": [
    " **Run the tutorial via free cloud platforms**: [![binder](https://mybinder.org/badge.svg)](https://mybinder.org/v2/gh/ecmwf-training/cams-act6/main?labpath=05-cams-mos/policy_tools.ipynb)\n",
    "[![kaggle](https://kaggle.com/static/images/open-in-kaggle.svg)](https://kaggle.com/kernels/welcome?src=https://github.com/ecmwf-training/cams-act6/blob/main/05-cams-mos/policy_tools.ipynb)\n",
    "[![colab](https://colab.research.google.com/assets/colab-badge.svg)](https://colab.research.google.com/github/ecmwf-training/cams-act6/blob/main/05-cams-mos/policy_tools.ipynb)"
   ]
  },
  {
   "cell_type": "markdown",
   "id": "25fbe103-7adb-49fe-9305-e039346e8842",
   "metadata": {},
   "source": [
    "The policy tools provide two APIs to consume the policy data using a client software, such as this notebook, instead of by a person."
   ]
  },
  {
   "cell_type": "markdown",
   "id": "e942efdb-9506-434b-ba30-529cad7fdcac",
   "metadata": {
    "jp-MarkdownHeadingCollapsed": true
   },
   "source": [
    "## APIs\n",
    "\n",
    "### Air Control Toolbox (ACT)\n",
    "https://policy.atmosphere.copernicus.eu/data/{yyyymm}/{model}/{mod}_{city}_{yyyymmdd}.json\n",
    "https://policy.atmosphere.copernicus.eu/data/{yyyymm}/CHIMERE/{model}_{city}_{yyyymmdd}.json\n",
    "\n",
    "### Source Allocation\n",
    "https://policy.atmosphere.copernicus.eu/data/climato/{city}-{parameter}-{model}-{year}.json"
   ]
  },
  {
   "cell_type": "markdown",
   "id": "60858828-6892-4468-b9b0-ab8fa82980bc",
   "metadata": {},
   "source": [
    "## Questions\n",
    "1. Which are the 10 cities where the dust share in PM10 is highest ?\n",
    "2. On average between 2021 and 2023, which country contributed most to PM10 pollution in Prague ?\n",
    "3. Which are the 10 cities where the maritime sector had the largest impact on ozone daily max between June and August 2024 ?"
   ]
  },
  {
   "cell_type": "markdown",
   "id": "e5dfc903-7030-4020-840e-e84d0522c2f8",
   "metadata": {},
   "source": [
    "### Import libraries"
   ]
  },
  {
   "cell_type": "code",
   "execution_count": 65,
   "id": "dd1f5db3-c660-46a4-b296-2d9ba63e8c12",
   "metadata": {},
   "outputs": [],
   "source": [
    "import os\n",
    "import sys\n",
    "import json\n",
    "import requests\n",
    "import urllib\n",
    "import urllib.request\n",
    "import pandas as pd\n",
    "import math\n",
    "import datetime\n",
    "from math import ceil, sqrt\n",
    "import matplotlib.pyplot as plt\n",
    "import matplotlib.dates as mdates\n",
    "import warnings\n",
    "warnings.filterwarnings('ignore')"
   ]
  },
  {
   "cell_type": "markdown",
   "id": "c72fcbae-241b-427a-8b6c-7c992522ce57",
   "metadata": {},
   "source": [
    "### Question 1\n",
    "Here we want to answer the question: which are the 10 cities where the dust share in PM10 is highest ? We could answer this question by using the [Policy Tools](https://policy.atmosphere.copernicus.eu/daily_source_attribution/chemical_species.php?model=CHIMERE) website and selecting \"Chemical speciation\" in the \"Daily Source Attribution\" menu. We can hereafter select the date, the city, and the model. For this question we will use the CHIMERE model. We can use the API to send a request for each city and process the data to answer our question. We start by reading the file that contains the name of the cities for which the policy webste provides the forecasts."
   ]
  },
  {
   "cell_type": "code",
   "execution_count": 6,
   "id": "2ee7c7cf-59b8-4c19-9d58-d6bb58f8f436",
   "metadata": {},
   "outputs": [],
   "source": [
    "with open('cities.txt', 'r', encoding=\"utf8\") as file:\n",
    "    cities = [line.strip() for line in file]"
   ]
  },
  {
   "cell_type": "code",
   "execution_count": 7,
   "id": "ee2ae618-9d3f-4ff4-ac79-5cd4ea60f98d",
   "metadata": {},
   "outputs": [
    {
     "data": {
      "text/plain": [
       "80"
      ]
     },
     "execution_count": 7,
     "metadata": {},
     "output_type": "execute_result"
    }
   ],
   "source": [
    "num_cities = len(cities)\n",
    "num_cities"
   ]
  },
  {
   "cell_type": "code",
   "execution_count": 99,
   "id": "9173880e-6872-406b-b700-463d913b8a41",
   "metadata": {},
   "outputs": [],
   "source": [
    "def act_chimere_url(day, city):\n",
    "    city = urllib.parse.quote(city) # utf-8 encode for the url\n",
    "    return 'https://policy.atmosphere.copernicus.eu/data/' + day[:6] + '/CHIMERE/ACT_' + city + '_' + day + '.json'"
   ]
  },
  {
   "cell_type": "code",
   "execution_count": 75,
   "id": "cf0f065e-e179-4f99-a17a-354e0f8328c7",
   "metadata": {},
   "outputs": [],
   "source": [
    "day = '20240912'\n",
    "city = 'Malmö'"
   ]
  },
  {
   "cell_type": "code",
   "execution_count": 76,
   "id": "ab69ee3c-9b20-45e4-8d9c-93aeeda4798b",
   "metadata": {},
   "outputs": [
    {
     "data": {
      "text/plain": [
       "'https://policy.atmosphere.copernicus.eu/data/202409/CHIMERE/ACT_Malm%C3%B6_20240912.json'"
      ]
     },
     "execution_count": 76,
     "metadata": {},
     "output_type": "execute_result"
    }
   ],
   "source": [
    "act_forecast_url = act_chimere_url(day, city)\n",
    "act_forecast_url"
   ]
  },
  {
   "cell_type": "code",
   "execution_count": 79,
   "id": "8e330201-b1d4-4148-94c1-9814b5f6616c",
   "metadata": {},
   "outputs": [
    {
     "data": {
      "text/plain": [
       "'Malmö_20240912.json'"
      ]
     },
     "execution_count": 79,
     "metadata": {},
     "output_type": "execute_result"
    }
   ],
   "source": [
    "act_file_name = city + '_' + day + '.json'\n",
    "act_file_name"
   ]
  },
  {
   "cell_type": "code",
   "execution_count": 80,
   "id": "49ec2335-117e-47dc-9ee4-1971eab71dd4",
   "metadata": {},
   "outputs": [],
   "source": [
    "with urllib.request.urlopen(act_forecast_url) as url:\n",
    "    json_data = json.load(url)\n",
    "    #print(json_data)"
   ]
  },
  {
   "cell_type": "markdown",
   "id": "f0632397-ca86-4e6e-af83-a4753c18bf54",
   "metadata": {},
   "source": [
    "We can store the json file"
   ]
  },
  {
   "cell_type": "code",
   "execution_count": 81,
   "id": "5557eb1b-63c2-4e5e-93c3-60ff3d1a8735",
   "metadata": {},
   "outputs": [],
   "source": [
    "with open(act_file_name, 'w') as f:\n",
    "    json.dump(json_data, f)"
   ]
  },
  {
   "cell_type": "markdown",
   "id": "231ef8d8-8136-47d1-92c7-5196871ba31b",
   "metadata": {},
   "source": [
    "We parse the json file to extract the information we need to answer our question: we look for the DUST value of the total concentration of PM10 "
   ]
  },
  {
   "cell_type": "code",
   "execution_count": 82,
   "id": "119c2a0c-15de-45fe-a401-70ce64fe60a5",
   "metadata": {},
   "outputs": [],
   "source": [
    "def compute_dust_fraction(json_data, day):\n",
    "    dust_fraction = 0.0\n",
    "    for item in json_data.get(day):\n",
    "        name = item['name'] \n",
    "        polluttant = item['poll']\n",
    "        if (name == 'Total' and polluttant == 'DUST'):\n",
    "            dust_fraction = sum(item['hOut'][:23])\n",
    "    return dust_fraction  "
   ]
  },
  {
   "cell_type": "code",
   "execution_count": 83,
   "id": "76d2c781-6654-494d-a01e-0b368e4a0bfe",
   "metadata": {},
   "outputs": [
    {
     "name": "stdout",
     "output_type": "stream",
     "text": [
      "Dust fraction in Malmö for 20240912: 0.00\n"
     ]
    }
   ],
   "source": [
    "dust_fraction = compute_dust_fraction(json_data, day)\n",
    "print('Dust fraction in {:s} for {:s}: {:.2f}'.format(city, day, dust_fraction))"
   ]
  },
  {
   "cell_type": "markdown",
   "id": "2d92972c-481e-43c9-a019-66af94714857",
   "metadata": {},
   "source": [
    "Now we put everything together to send a request for each city and extract the amount of dust within the total amount of PM10"
   ]
  },
  {
   "cell_type": "code",
   "execution_count": 102,
   "id": "f176d853-c018-45fe-bc42-fbfe716f3f9f",
   "metadata": {},
   "outputs": [],
   "source": [
    "def dust_pm10(cities, day):\n",
    "    cities_dust_pm10 = []\n",
    "    for city in cities:\n",
    "        act_data_url = act_chimere_url(day, city)\n",
    "        with urllib.request.urlopen(act_data_url) as url:\n",
    "            json_data = json.load(url)\n",
    "            dust_fraction = compute_dust_fraction(json_data, day)\n",
    "            #print('City: {:s}, PM10 dust fraction: {:.2f}'.format(city, dust_fraction))\n",
    "            cities_dust_pm10.append(dust_fraction)\n",
    "    return cities_dust_pm10"
   ]
  },
  {
   "cell_type": "code",
   "execution_count": 103,
   "id": "425a6731-9fdb-42c0-803a-9b322c5606b5",
   "metadata": {},
   "outputs": [],
   "source": [
    "cities_dust_fraction_pm10 = dust_pm10(cities, '20240912')"
   ]
  },
  {
   "cell_type": "code",
   "execution_count": 104,
   "id": "4f7796df-cd5b-441a-a3f1-b2e573bbbaed",
   "metadata": {},
   "outputs": [],
   "source": [
    "cities_dust = zip(cities, cities_dust_fraction_pm10)"
   ]
  },
  {
   "cell_type": "markdown",
   "id": "795ea592-8ae2-46ee-8216-e90e09e2199d",
   "metadata": {},
   "source": [
    "We sort the result and print the 10 cities with the highest share of dust in PM10"
   ]
  },
  {
   "cell_type": "code",
   "execution_count": 105,
   "id": "de70c856-9f6b-4312-ba27-08449103139e",
   "metadata": {},
   "outputs": [
    {
     "data": {
      "text/plain": [
       "[('Nicosia', 56.946),\n",
       " ('Valletta', 6.936),\n",
       " ('Málaga', 6.378),\n",
       " ('Murcia', 6.189),\n",
       " ('Vilnius', 5.566),\n",
       " ('Palermo', 4.579),\n",
       " ('Budapest', 4.572),\n",
       " ('Seville', 4.363),\n",
       " ('Catania', 4.041),\n",
       " ('Katowice', 2.677)]"
      ]
     },
     "execution_count": 105,
     "metadata": {},
     "output_type": "execute_result"
    }
   ],
   "source": [
    "sorted(cities_dust, key=lambda x: x[1], reverse=True)[:10]"
   ]
  },
  {
   "cell_type": "markdown",
   "id": "809b51e6-a425-4446-91d6-7e4bb7cf42d7",
   "metadata": {},
   "source": [
    "### Question 2\n",
    "Here the question is: on average between 2021 and 2023, which country contributed most to PM10 pollution in Prague ? We could answer this question using the [policy tools](https://policy.atmosphere.copernicus.eu/daily_source_attribution/country_contribution.php?date=2024-09-10) by selecting \"Country contribution\" in the \"Yearly Air Pollution Analysis\" menu. Afterward we can select the city and the pollutant. As for question 1, we can use the API to send several requests, e.g. for several cities, and process the data to answer more complex questions than the one we are dealing with here. (there is no json file in the web page)"
   ]
  },
  {
   "cell_type": "code",
   "execution_count": 61,
   "id": "d94ddbda-6452-402e-a81a-c3000bd1d238",
   "metadata": {},
   "outputs": [],
   "source": [
    "def sa_url(city, year, polluttant):\n",
    "    return 'https://policy.atmosphere.copernicus.eu/data/climato/' + city + '-' + polluttant + '-ACT-' + year + '.json'"
   ]
  },
  {
   "cell_type": "code",
   "execution_count": 62,
   "id": "31a28c94-ec8e-4476-97f3-4be5c855c861",
   "metadata": {},
   "outputs": [
    {
     "data": {
      "text/plain": [
       "'https://policy.atmosphere.copernicus.eu/data/climato/Oslo-PM10-ACT-2024.json'"
      ]
     },
     "execution_count": 62,
     "metadata": {},
     "output_type": "execute_result"
    }
   ],
   "source": [
    "sa_data_url = sa_url('Oslo', '2024', 'PM10')\n",
    "sa_data_url"
   ]
  },
  {
   "cell_type": "code",
   "execution_count": 64,
   "id": "b152704a-6d0c-4625-864d-1533425a2671",
   "metadata": {},
   "outputs": [
    {
     "data": {
      "text/plain": [
       "'Oslo-PM10-ACT-2024.json'"
      ]
     },
     "execution_count": 64,
     "metadata": {},
     "output_type": "execute_result"
    }
   ],
   "source": [
    "sa_file_name = sa_data_url.split('/')[-1:].pop()\n",
    "sa_file_name"
   ]
  },
  {
   "cell_type": "code",
   "execution_count": 65,
   "id": "cb6aba37-e18a-4a48-a588-d3d263e088a7",
   "metadata": {},
   "outputs": [],
   "source": [
    " with urllib.request.urlopen(sa_data_url) as url:\n",
    "    sa_data = json.load(url)\n",
    "    #print(data)"
   ]
  },
  {
   "cell_type": "code",
   "execution_count": 66,
   "id": "824cbc1f-4871-4833-81c0-6ef7c869a30c",
   "metadata": {},
   "outputs": [],
   "source": [
    "with open(sa_file_name, 'w') as f:\n",
    "    json.dump(sa_data, f)"
   ]
  },
  {
   "cell_type": "markdown",
   "id": "7c078081-a6b5-4441-be13-8678d8b384ef",
   "metadata": {},
   "source": [
    "### Question 3\n",
    "Here the question is: which are the 10 cities where the maritime sector had the largest impact on ozone daily max between June and August 2024 ? The maritime sector is labeled as Ship or SHP. In order to answer this question we use the same API as for question 1."
   ]
  },
  {
   "cell_type": "markdown",
   "id": "a8f0a6ff-5ff4-4565-bba9-e4d204a65cb2",
   "metadata": {},
   "source": [
    "## References\n",
    "* [Colette et al. - Air Control Toolbox (ACT_v1.0): a flexible surrogate model to explore mitigation scenarios in air quality forecasts](https://gmd.copernicus.org/articles/15/1441/2022/)"
   ]
  },
  {
   "cell_type": "code",
   "execution_count": null,
   "id": "c6b69b6c-00e1-4090-b14e-c52fc7dcd867",
   "metadata": {},
   "outputs": [],
   "source": []
  }
 ],
 "metadata": {
  "kernelspec": {
   "display_name": "Python 3 (ipykernel)",
   "language": "python",
   "name": "python3"
  },
  "language_info": {
   "codemirror_mode": {
    "name": "ipython",
    "version": 3
   },
   "file_extension": ".py",
   "mimetype": "text/x-python",
   "name": "python",
   "nbconvert_exporter": "python",
   "pygments_lexer": "ipython3",
   "version": "3.12.5"
  }
 },
 "nbformat": 4,
 "nbformat_minor": 5
}
